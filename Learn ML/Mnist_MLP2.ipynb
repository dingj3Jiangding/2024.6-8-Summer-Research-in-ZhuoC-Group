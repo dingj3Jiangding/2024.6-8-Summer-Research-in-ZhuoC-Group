{
 "cells": [
  {
   "cell_type": "markdown",
   "id": "02d41e16-85cd-44ca-98ed-dec25455e340",
   "metadata": {},
   "source": [
    "2 hidden layer, 392 neruon for each layer  \n",
    "1. load the mnist data\n",
    "2. read into train_set and test_set\n",
    "3. visualize the data[train data]\n",
    "4. format the input data -> [reshape]  (x_train/test.shape[test case quantity],feature_size[pixel number])\n",
    "5. normalize the input data(将原来的颜色映射到0-1)\n",
    "6. format the output data [to_catagorical]  数字分类\n",
    "7. set up model\n",
    "8. comfigure/compile the model\n",
    "9. train the model\n",
    "10. evaluate the model train [accuracy_score]\n",
    "11. evaluate the model test [accuracy_score]"
   ]
  },
  {
   "cell_type": "code",
   "execution_count": 118,
   "id": "90f95a3d-2906-46ef-8424-9053d861a8e9",
   "metadata": {},
   "outputs": [
    {
     "name": "stdout",
     "output_type": "stream",
     "text": [
      "(60000, 28, 28)\n",
      "(60000,)\n"
     ]
    }
   ],
   "source": [
    "from tensorflow.keras.datasets import mnist\n",
    "(x_test,y_test),(x_train,y_train) = mnist.load_data()\n",
    "print(x_test.shape)\n",
    "print(y_test.shape)"
   ]
  },
  {
   "cell_type": "code",
   "execution_count": 119,
   "id": "2dc6851f-7a02-4284-88d8-517d67b06841",
   "metadata": {},
   "outputs": [
    {
     "name": "stdout",
     "output_type": "stream",
     "text": [
      "(28, 28)\n"
     ]
    },
    {
     "data": {
      "text/plain": [
       "<matplotlib.image.AxesImage at 0x28ee60ebee0>"
      ]
     },
     "execution_count": 119,
     "metadata": {},
     "output_type": "execute_result"
    },
    {
     "data": {
      "image/png": "[encoded data removed]",
      "text/plain": [
       "<Figure size 500x500 with 1 Axes>"
      ]
     },
     "metadata": {},
     "output_type": "display_data"
    }
   ],
   "source": [
    "%matplotlib inline\n",
    "from matplotlib import pyplot as plt\n",
    "img1 = x_train[0]\n",
    "print(x_train[0].shape)\n",
    "plt.figure(figsize=(5,5))\n",
    "plt.imshow(img1)"
   ]
  },
  {
   "cell_type": "code",
   "execution_count": 120,
   "id": "863bf409-a5a8-4699-968c-df98d73f69a6",
   "metadata": {
    "scrolled": true
   },
   "outputs": [
    {
     "name": "stdout",
     "output_type": "stream",
     "text": [
      "<class 'numpy.ndarray'>\n"
     ]
    }
   ],
   "source": [
    "# formalize the data\n",
    "print(type(x_train))\n",
    "x_train_format = x_train.reshape(x_train.shape[0],784)"
   ]
  },
  {
   "cell_type": "code",
   "execution_count": 121,
   "id": "0ef1ab83-7dd4-4767-a0aa-937f597cd39e",
   "metadata": {},
   "outputs": [],
   "source": [
    "# normalize the input\n",
    "x_train_format = x_train_format/255"
   ]
  },
  {
   "cell_type": "code",
   "execution_count": 122,
   "id": "40b2a212-124d-4c12-b58d-6a46a752d6fe",
   "metadata": {},
   "outputs": [],
   "source": [
    "# formalize the output data\n",
    "from tensorflow import keras\n",
    "y_train_format = keras.utils.to_categorical(y_train,10)\n"
   ]
  },
  {
   "cell_type": "code",
   "execution_count": 123,
   "id": "82f6c66b-83f4-42e9-95d2-89081fa6b868",
   "metadata": {},
   "outputs": [
    {
     "name": "stdout",
     "output_type": "stream",
     "text": [
      "Model: \"sequential_11\"\n",
      "_________________________________________________________________\n",
      "Layer (type)                 Output Shape              Param #   \n",
      "=================================================================\n",
      "dense_12 (Dense)             (None, 392)               307720    \n",
      "_________________________________________________________________\n",
      "dense_13 (Dense)             (None, 392)               154056    \n",
      "_________________________________________________________________\n",
      "dense_14 (Dense)             (None, 10)                3930      \n",
      "=================================================================\n",
      "Total params: 465,706\n",
      "Trainable params: 465,706\n",
      "Non-trainable params: 0\n",
      "_________________________________________________________________\n"
     ]
    }
   ],
   "source": [
    "# set up the model\n",
    "from tensorflow.keras.models import Sequential    # don’t forget the 's'\n",
    "from tensorflow.keras.layers import Dense,Activation\n",
    "mlp = Sequential()\n",
    "mlp.add(Dense(units = 392, input_dim = 784, activation = 'sigmoid'))  # remind it's input_dim!!!\n",
    "mlp.add(Dense(units = 392, activation = 'sigmoid'))\n",
    "mlp.add(Dense(units = 10, activation = 'softmax'))\n",
    "mlp.summary()"
   ]
  },
  {
   "cell_type": "code",
   "execution_count": 124,
   "id": "976a8f1f-3c5a-45c6-bbd3-9efa9d698a37",
   "metadata": {},
   "outputs": [],
   "source": [
    "# configure the model\n",
    "mlp.compile(optimizer='adam',loss = 'categorical_crossentropy')"
   ]
  },
  {
   "cell_type": "code",
   "execution_count": 125,
   "id": "46286269-4561-49bc-9ea1-340a94b06fef",
   "metadata": {},
   "outputs": [
    {
     "name": "stdout",
     "output_type": "stream",
     "text": [
      "Epoch 1/40\n",
      "313/313 [==============================] - 2s 5ms/step - loss: 0.7526\n",
      "Epoch 2/40\n",
      "313/313 [==============================] - 2s 6ms/step - loss: 0.2879\n",
      "Epoch 3/40\n",
      "313/313 [==============================] - 2s 6ms/step - loss: 0.2256\n",
      "Epoch 4/40\n",
      "313/313 [==============================] - 2s 5ms/step - loss: 0.1792\n",
      "Epoch 5/40\n",
      "313/313 [==============================] - 2s 6ms/step - loss: 0.1499\n",
      "Epoch 6/40\n",
      "313/313 [==============================] - 2s 6ms/step - loss: 0.1163\n",
      "Epoch 7/40\n",
      "313/313 [==============================] - 2s 6ms/step - loss: 0.0954\n",
      "Epoch 8/40\n",
      "313/313 [==============================] - 2s 6ms/step - loss: 0.0766\n",
      "Epoch 9/40\n",
      "313/313 [==============================] - 2s 5ms/step - loss: 0.0624\n",
      "Epoch 10/40\n",
      "313/313 [==============================] - 2s 6ms/step - loss: 0.0463\n",
      "Epoch 11/40\n",
      "313/313 [==============================] - 2s 6ms/step - loss: 0.0335\n",
      "Epoch 12/40\n",
      "313/313 [==============================] - 2s 5ms/step - loss: 0.0275\n",
      "Epoch 13/40\n",
      "313/313 [==============================] - 2s 6ms/step - loss: 0.0212\n",
      "Epoch 14/40\n",
      "313/313 [==============================] - 2s 6ms/step - loss: 0.0133\n",
      "Epoch 15/40\n",
      "313/313 [==============================] - 2s 5ms/step - loss: 0.0097\n",
      "Epoch 16/40\n",
      "313/313 [==============================] - 2s 6ms/step - loss: 0.0085\n",
      "Epoch 17/40\n",
      "313/313 [==============================] - 2s 6ms/step - loss: 0.0047\n",
      "Epoch 18/40\n",
      "313/313 [==============================] - 2s 6ms/step - loss: 0.0032\n",
      "Epoch 19/40\n",
      "313/313 [==============================] - 2s 6ms/step - loss: 0.0025\n",
      "Epoch 20/40\n",
      "313/313 [==============================] - 2s 5ms/step - loss: 0.0016\n",
      "Epoch 21/40\n",
      "313/313 [==============================] - 2s 6ms/step - loss: 0.0013\n",
      "Epoch 22/40\n",
      "313/313 [==============================] - 2s 6ms/step - loss: 9.9445e-04\n",
      "Epoch 23/40\n",
      "313/313 [==============================] - 2s 5ms/step - loss: 8.4926e-04\n",
      "Epoch 24/40\n",
      "313/313 [==============================] - 2s 5ms/step - loss: 6.9765e-04\n",
      "Epoch 25/40\n",
      "313/313 [==============================] - 2s 6ms/step - loss: 5.6547e-04\n",
      "Epoch 26/40\n",
      "313/313 [==============================] - 2s 6ms/step - loss: 4.7032e-04\n",
      "Epoch 27/40\n",
      "313/313 [==============================] - 1s 3ms/step - loss: 3.8444e-04\n",
      "Epoch 28/40\n",
      "313/313 [==============================] - 1s 3ms/step - loss: 3.2422e-04\n",
      "Epoch 29/40\n",
      "313/313 [==============================] - 1s 5ms/step - loss: 2.5744e-04\n",
      "Epoch 30/40\n",
      "313/313 [==============================] - 2s 6ms/step - loss: 2.0979e-04\n",
      "Epoch 31/40\n",
      "313/313 [==============================] - 2s 6ms/step - loss: 1.8764e-04\n",
      "Epoch 32/40\n",
      "313/313 [==============================] - 2s 5ms/step - loss: 1.5516e-04\n",
      "Epoch 33/40\n",
      "313/313 [==============================] - 2s 6ms/step - loss: 1.2062e-04\n",
      "Epoch 34/40\n",
      "313/313 [==============================] - 2s 6ms/step - loss: 0.0502\n",
      "Epoch 35/40\n",
      "313/313 [==============================] - 2s 6ms/step - loss: 0.0193\n",
      "Epoch 36/40\n",
      "313/313 [==============================] - 2s 6ms/step - loss: 0.0026\n",
      "Epoch 37/40\n",
      "313/313 [==============================] - 2s 6ms/step - loss: 5.7271e-04\n",
      "Epoch 38/40\n",
      "313/313 [==============================] - 2s 6ms/step - loss: 3.5169e-04\n",
      "Epoch 39/40\n",
      "313/313 [==============================] - 2s 7ms/step - loss: 2.7021e-04\n",
      "Epoch 40/40\n",
      "313/313 [==============================] - 2s 6ms/step - loss: 2.2306e-04\n"
     ]
    },
    {
     "data": {
      "text/plain": [
       "<tensorflow.python.keras.callbacks.History at 0x28ee5f13190>"
      ]
     },
     "execution_count": 125,
     "metadata": {},
     "output_type": "execute_result"
    }
   ],
   "source": [
    "# train the model\n",
    "mlp.fit(x_train_format,y_train_format,epochs = 40)"
   ]
  },
  {
   "cell_type": "code",
   "execution_count": 126,
   "id": "27927265-f096-4e5d-9fe4-8d4509d77319",
   "metadata": {},
   "outputs": [
    {
     "name": "stdout",
     "output_type": "stream",
     "text": [
      "[7 2 1 ... 4 5 6]\n",
      "(10000, 10)\n",
      "1.0\n"
     ]
    }
   ],
   "source": [
    "# evaluate the accuracy of the train set\n",
    "from sklearn.metrics import accuracy_score\n",
    "y_train_predict = mlp.predict_classes(x_train_format) \n",
    "print(y_train_predict)\n",
    "print(y_train_format.shape)\n",
    "accuracy_train = accuracy_score(y_train, y_train_predict)\n",
    "print(accuracy_train)"
   ]
  },
  {
   "cell_type": "code",
   "execution_count": 130,
   "id": "89d5b89d-72cd-43d4-b17c-b00442aabe90",
   "metadata": {},
   "outputs": [
    {
     "name": "stdout",
     "output_type": "stream",
     "text": [
      "(10000, 784)\n",
      "<class 'numpy.ndarray'>\n",
      "0.9523833333333334\n"
     ]
    }
   ],
   "source": [
    "# evaluate the accuracy of the test set \n",
    "print(x_train_format.shape)\n",
    "print(type(x_test))\n",
    "x_test_format = x_test.reshape(x_test.shape[0],784)\n",
    "y_test_predict = mlp.predict_classes(x_test_format)\n",
    "accuracy_test = accuracy_score(y_test,y_test_predict)\n",
    "print(accuracy_test)"
   ]
  },
  {
   "cell_type": "code",
   "execution_count": null,
   "id": "0be7cac0-6a9f-4301-a34f-3b05a9e57d7d",
   "metadata": {},
   "outputs": [],
   "source": []
  }
 ],
 "metadata": {
  "kernelspec": {
   "display_name": "Python 3 (ipykernel)",
   "language": "python",
   "name": "python3"
  },
  "language_info": {
   "codemirror_mode": {
    "name": "ipython",
    "version": 3
   },
   "file_extension": ".py",
   "mimetype": "text/x-python",
   "name": "python",
   "nbconvert_exporter": "python",
   "pygments_lexer": "ipython3",
   "version": "3.8.19"
  }
 },
 "nbformat": 4,
 "nbformat_minor": 5
}
