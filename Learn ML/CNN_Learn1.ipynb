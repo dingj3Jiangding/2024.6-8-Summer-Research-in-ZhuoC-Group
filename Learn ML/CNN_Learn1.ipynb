{
 "cells": [
  {
   "cell_type": "code",
   "execution_count": 48,
   "id": "af21e35d-a0bf-4221-af23-dd561922356e",
   "metadata": {},
   "outputs": [
    {
     "name": "stdout",
     "output_type": "stream",
     "text": [
      "Found 25000 images belonging to 2 classes.\n"
     ]
    }
   ],
   "source": [
    "from tensorflow.keras.preprocessing.image import ImageDataGenerator\n",
    "train_datagen = ImageDataGenerator(rescale = 1./255)\n",
    "# imagedatagenerator 可以平移旋转放大缩小增减亮，用一张图片生成不同的图片来更好的训练模型\n",
    "train_data = train_datagen.flow_from_directory('C:/非系统/dogs-vs-cats/train/train',target_size=(50,50),batch_size = 32,class_mode = 'binary')\n",
    "# batch 是一批数据的大小\n",
    "#注意地址必须是包含图片的类别文件夹的目录"
   ]
  },
  {
   "cell_type": "code",
   "execution_count": 49,
   "id": "d2c124b9-bf4e-47ff-901a-e446eb004d65",
   "metadata": {},
   "outputs": [],
   "source": [
    "# set up the cnn model\n",
    "from tensorflow.keras.models import Sequential\n",
    "from tensorflow.keras.layers import Dense,Conv2D,MaxPool2D,Flatten\n",
    "model = Sequential()\n",
    "#卷积层\n",
    "model.add(Conv2D(32,(3,3),input_shape=(50,50,3),activation = 'relu'))\n",
    "#池化层\n",
    "model.add(MaxPool2D(pool_size = (2,2)))\n",
    "#卷积层\n",
    "model.add(Conv2D(32,(3,3),activation = 'relu'))\n",
    "#池化层\n",
    "model.add(MaxPool2D(pool_size = (2,2)))\n",
    "#展开层\n",
    "model.add(Flatten())\n",
    "#全连接层\n",
    "model.add(Dense(units = 128, activation = 'relu'))\n",
    "model.add(Dense(units = 1, activation = 'sigmoid'))"
   ]
  },
  {
   "cell_type": "code",
   "execution_count": 50,
   "id": "196cf203-ac80-4fe6-977c-9be72c3675ab",
   "metadata": {},
   "outputs": [
    {
     "name": "stdout",
     "output_type": "stream",
     "text": [
      "Model: \"sequential_8\"\n",
      "_________________________________________________________________\n",
      "Layer (type)                 Output Shape              Param #   \n",
      "=================================================================\n",
      "conv2d_10 (Conv2D)           (None, 48, 48, 32)        896       \n",
      "_________________________________________________________________\n",
      "max_pooling2d_8 (MaxPooling2 (None, 24, 24, 32)        0         \n",
      "_________________________________________________________________\n",
      "conv2d_11 (Conv2D)           (None, 22, 22, 32)        9248      \n",
      "_________________________________________________________________\n",
      "max_pooling2d_9 (MaxPooling2 (None, 11, 11, 32)        0         \n",
      "_________________________________________________________________\n",
      "flatten_3 (Flatten)          (None, 3872)              0         \n",
      "_________________________________________________________________\n",
      "dense_4 (Dense)              (None, 128)               495744    \n",
      "_________________________________________________________________\n",
      "dense_5 (Dense)              (None, 1)                 129       \n",
      "=================================================================\n",
      "Total params: 506,017\n",
      "Trainable params: 506,017\n",
      "Non-trainable params: 0\n",
      "_________________________________________________________________\n"
     ]
    }
   ],
   "source": [
    "model.compile(optimizer='adam',loss = 'binary_crossentropy',metrics='accuracy')\n",
    "model.summary()"
   ]
  },
  {
   "cell_type": "code",
   "execution_count": 51,
   "id": "ccd14792-a267-468e-ad89-ac6d146e2daf",
   "metadata": {},
   "outputs": [
    {
     "name": "stdout",
     "output_type": "stream",
     "text": [
      "Epoch 1/10\n",
      "782/782 [==============================] - 61s 78ms/step - loss: 0.5790 - accuracy: 0.6846\n",
      "Epoch 2/10\n",
      "782/782 [==============================] - 60s 76ms/step - loss: 0.4746 - accuracy: 0.7724\n",
      "Epoch 3/10\n",
      "782/782 [==============================] - 59s 75ms/step - loss: 0.4321 - accuracy: 0.8010\n",
      "Epoch 4/10\n",
      "782/782 [==============================] - 58s 75ms/step - loss: 0.3931 - accuracy: 0.8193\n",
      "Epoch 5/10\n",
      "782/782 [==============================] - 57s 73ms/step - loss: 0.3496 - accuracy: 0.8443\n",
      "Epoch 6/10\n",
      "782/782 [==============================] - 59s 75ms/step - loss: 0.3046 - accuracy: 0.8691\n",
      "Epoch 7/10\n",
      "782/782 [==============================] - 58s 74ms/step - loss: 0.2556 - accuracy: 0.8917\n",
      "Epoch 8/10\n",
      "782/782 [==============================] - 54s 69ms/step - loss: 0.1991 - accuracy: 0.9180\n",
      "Epoch 9/10\n",
      "782/782 [==============================] - 54s 69ms/step - loss: 0.1377 - accuracy: 0.9468\n",
      "Epoch 10/10\n",
      "782/782 [==============================] - 56s 71ms/step - loss: 0.0945 - accuracy: 0.9647\n"
     ]
    },
    {
     "data": {
      "text/plain": [
       "<tensorflow.python.keras.callbacks.History at 0x239e493c520>"
      ]
     },
     "execution_count": 51,
     "metadata": {},
     "output_type": "execute_result"
    }
   ],
   "source": [
    "#train the model\n",
    "model.fit_generator(train_data,epochs = 10)\n",
    "#因为是从ImagedataGenerator生成的，所以不是fit"
   ]
  },
  {
   "cell_type": "code",
   "execution_count": 38,
   "id": "9a1e394d-3769-4307-a92f-be85391e3ba2",
   "metadata": {},
   "outputs": [
    {
     "name": "stdout",
     "output_type": "stream",
     "text": [
      "782/782 [==============================] - 51s 65ms/step - loss: 3.2931e-12 - accuracy: 1.0000\n",
      "<keras_preprocessing.image.directory_iterator.DirectoryIterator object at 0x00000239D98E1820>\n"
     ]
    }
   ],
   "source": [
    "accuracy_train = model.evaluate(train_data)\n",
    "print(train_data)\n",
    "# 由于文件夹的字母表排列，cat排在dog前面，因此0是cat，1是dog，或者使用命令获知\n"
   ]
  },
  {
   "cell_type": "code",
   "execution_count": 57,
   "id": "3bfd2665-365e-4c48-9095-c5aebbb275e3",
   "metadata": {},
   "outputs": [
    {
     "name": "stdout",
     "output_type": "stream",
     "text": [
      "{'cat': 0, 'dog': 1}\n"
     ]
    }
   ],
   "source": [
    "print(train_data.class_indices)  #注意class_indices是flow_from_directory的属性"
   ]
  },
  {
   "cell_type": "code",
   "execution_count": 89,
   "id": "80438f3b-1459-4e0f-9190-dfd2f8010aef",
   "metadata": {},
   "outputs": [
    {
     "name": "stdout",
     "output_type": "stream",
     "text": [
      "[[1]]\n"
     ]
    }
   ],
   "source": [
    "#加载test1的所有图片\n",
    "from tensorflow.keras.preprocessing.image import load_img, img_to_array\n",
    "pic_dog = 'C:/非系统/dogs-vs-cats/test1/test1/885.jpg'\n",
    "pic_dog = load_img(pic_dog,target_size = (50,50))\n",
    "pic_dog = img_to_array(pic_dog)\n",
    "pic_dog = pic_dog / 255\n",
    "pic_dog = pic_dog.reshape(1,50,50,3)\n",
    "result = model.predict_classes(pic_dog)\n",
    "print(result)"
   ]
  },
  {
   "cell_type": "markdown",
   "id": "d425be37-d6e2-4b69-83a7-a8c1eec0593c",
   "metadata": {},
   "source": [
    "1. 高光错误\n",
    "2. 有很多人的干扰 - 错误\n",
    "3. 遮挡 - 错误\n",
    "4. 穿衣戴帽 - 错误\n",
    "5. 简笔画 - 错误\n"
   ]
  },
  {
   "cell_type": "markdown",
   "id": "841ba951-14e4-4cbe-88cf-5922f57a008f",
   "metadata": {},
   "source": [
    "To be completed\n",
    "1. 将train 分割成train 和 test\n",
    "2. 将test里的图片自动多张导入，生成图片显示和预测结果显示"
   ]
  }
 ],
 "metadata": {
  "kernelspec": {
   "display_name": "Python 3 (ipykernel)",
   "language": "python",
   "name": "python3"
  },
  "language_info": {
   "codemirror_mode": {
    "name": "ipython",
    "version": 3
   },
   "file_extension": ".py",
   "mimetype": "text/x-python",
   "name": "python",
   "nbconvert_exporter": "python",
   "pygments_lexer": "ipython3",
   "version": "3.8.19"
  }
 },
 "nbformat": 4,
 "nbformat_minor": 5
}
