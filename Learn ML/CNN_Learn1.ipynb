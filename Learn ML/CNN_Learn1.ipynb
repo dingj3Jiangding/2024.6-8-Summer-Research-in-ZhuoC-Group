{
 "cells": [
  {
   "cell_type": "code",
   "execution_count": null,
   "id": "0402ebd4-cbe8-4c84-991c-4313b07ffe93",
   "metadata": {},
   "outputs": [],
   "source": [
    "# split the data to train and test\n",
    "import os\n",
    "import random\n",
    "import shutil\n",
    "import csv\n",
    "import numpy as np\n",
    "def CopyFile(imageDir,test_rate,save_test_dir,save_train_dir):#三个参数，第一个为每个类别的所有图像在计算机中的位置\n",
    "    #第二个为copy的图片数目所占总的比例，最后一个为移动的图片保存的位置，\n",
    "    image_number = len(imageDir)  #图片总数目\n",
    "    test_number = int(image_number * test_rate)#要移动的图片数目\n",
    "    print(\"要移动到%s目录下的图片数目为:%d\"%(save_test_dir,test_number))\n",
    "    test_samples = random.sample(imageDir, test_number)#随机截取列表imageDir中数目为test_number的元素\n",
    " # copy图像到目标文件夹\n",
    "    if not os.path.exists(save_test_dir):\n",
    "        os.makedirs(save_test_dir)\n",
    "        print(\"save_test_dir has been created successfully!\")\n",
    "    else:\n",
    "        print(\"save_test_dir already exited!\")\n",
    "    if not os.path.exists(save_train_dir):\n",
    "        os.makedirs(save_train_dir)\n",
    "        print(\"save_train_dir has been created successfully!\")\n",
    "    else:\n",
    "        print(\"save_train_dir already exited!\")\n",
    "    for i,j in enumerate(test_samples):\n",
    "        shutil.copy(test_samples[i], save_test_dir+test_samples[i].split(\"/\")[-1])\n",
    "    print(\"test移动完成！\")\n",
    "    for train_imgs in imageDir:\n",
    "        if train_imgs not in test_samples:\n",
    "            shutil.copy(train_imgs, save_train_dir+train_imgs.split(\"/\")[-1])\n",
    "    print(\"train移动完成\")\n",
    "#只需给定file_path、test_rate即可完成整个任务\n",
    "#原始路径+分割比例\n",
    "################################\n",
    "file_path=\"C:/非系统/dogs-vs-cats/train/train\"\n",
    "test_rate = 0.75\n",
    "################################\n",
    "file_dirs=os.listdir(file_path)\n",
    "origion_paths=[]\n",
    "save_test_dirs=[]\n",
    "save_train_dirs=[]\n",
    "for path in file_dirs:\n",
    "   origion_paths.append(file_path+\"/\"+path+\"/\")\n",
    "   save_train_dirs.append(\"./train/\"+path+\"/\")\n",
    "   save_test_dirs.append(\"./test/\"+path+\"/\")\n",
    "for i,origion_path in enumerate(origion_paths):\n",
    "    image_list = os.listdir(origion_path) #获得原始路径下的所有图片的name（默认路径下都是图片）\n",
    "    image_Dir=[]\n",
    "    for x,y in enumerate(image_list):\n",
    "        image_Dir.append (os.path.join(origion_path, y))\n",
    "    print(\"%s目录下共有%d张图片！\"%(origion_path,len(image_Dir)))\n",
    "    CopyFile(image_Dir,test_rate,save_test_dirs[i],save_train_dirs[i])\n",
    "print(\"all datas has been moved successfully!\")\n"
   ]
  },
  {
   "cell_type": "code",
   "execution_count": 5,
   "id": "af21e35d-a0bf-4221-af23-dd561922356e",
   "metadata": {},
   "outputs": [
    {
     "name": "stdout",
     "output_type": "stream",
     "text": [
      "Found 12500 images belonging to 2 classes.\n",
      "Found 12500 images belonging to 2 classes.\n"
     ]
    }
   ],
   "source": [
    "from tensorflow.keras.preprocessing.image import ImageDataGenerator\n",
    "train_datagen = ImageDataGenerator(rescale = 1./255)\n",
    "# imagedatagenerator 可以平移旋转放大缩小增减亮，用一张图片生成不同的图片来更好的训练模型\n",
    "train_data = train_datagen.flow_from_directory('./test',target_size=(50,50),batch_size = 32,class_mode = 'binary')\n",
    "test_data = train_datagen.flow_from_directory('./train',target_size=(50,50),batch_size = 32,class_mode = 'binary')\n",
    "# batch 是一批数据的大小\n",
    "#注意地址必须是包含图片的类别文件夹的目录"
   ]
  },
  {
   "cell_type": "code",
   "execution_count": 6,
   "id": "d2c124b9-bf4e-47ff-901a-e446eb004d65",
   "metadata": {},
   "outputs": [],
   "source": [
    "# set up the cnn model\n",
    "from tensorflow.keras.models import Sequential\n",
    "from tensorflow.keras.layers import Dense,Conv2D,MaxPool2D,Flatten\n",
    "model = Sequential()\n",
    "#卷积层\n",
    "model.add(Conv2D(32,(3,3),input_shape=(50,50,3),activation = 'relu'))\n",
    "#池化层\n",
    "model.add(MaxPool2D(pool_size = (2,2)))\n",
    "#卷积层\n",
    "model.add(Conv2D(32,(3,3),activation = 'relu'))\n",
    "#池化层\n",
    "model.add(MaxPool2D(pool_size = (2,2)))\n",
    "#展开层\n",
    "model.add(Flatten())\n",
    "#全连接层\n",
    "model.add(Dense(units = 128, activation = 'relu'))\n",
    "model.add(Dense(units = 1, activation = 'sigmoid'))"
   ]
  },
  {
   "cell_type": "code",
   "execution_count": 7,
   "id": "196cf203-ac80-4fe6-977c-9be72c3675ab",
   "metadata": {},
   "outputs": [
    {
     "name": "stdout",
     "output_type": "stream",
     "text": [
      "Model: \"sequential\"\n",
      "_________________________________________________________________\n",
      "Layer (type)                 Output Shape              Param #   \n",
      "=================================================================\n",
      "conv2d (Conv2D)              (None, 48, 48, 32)        896       \n",
      "_________________________________________________________________\n",
      "max_pooling2d (MaxPooling2D) (None, 24, 24, 32)        0         \n",
      "_________________________________________________________________\n",
      "conv2d_1 (Conv2D)            (None, 22, 22, 32)        9248      \n",
      "_________________________________________________________________\n",
      "max_pooling2d_1 (MaxPooling2 (None, 11, 11, 32)        0         \n",
      "_________________________________________________________________\n",
      "flatten (Flatten)            (None, 3872)              0         \n",
      "_________________________________________________________________\n",
      "dense (Dense)                (None, 128)               495744    \n",
      "_________________________________________________________________\n",
      "dense_1 (Dense)              (None, 1)                 129       \n",
      "=================================================================\n",
      "Total params: 506,017\n",
      "Trainable params: 506,017\n",
      "Non-trainable params: 0\n",
      "_________________________________________________________________\n"
     ]
    }
   ],
   "source": [
    "model.compile(optimizer='adam',loss = 'binary_crossentropy',metrics='accuracy')\n",
    "model.summary()"
   ]
  },
  {
   "cell_type": "code",
   "execution_count": 44,
   "id": "ccd14792-a267-468e-ad89-ac6d146e2daf",
   "metadata": {},
   "outputs": [
    {
     "name": "stdout",
     "output_type": "stream",
     "text": [
      "Epoch 1/10\n",
      "391/391 [==============================] - 103s 264ms/step - loss: 0.0854 - accuracy: 0.9723\n",
      "Epoch 2/10\n",
      "391/391 [==============================] - 29s 74ms/step - loss: 0.0555 - accuracy: 0.9841\n",
      "Epoch 3/10\n",
      "391/391 [==============================] - 30s 76ms/step - loss: 0.0414 - accuracy: 0.9887\n",
      "Epoch 4/10\n",
      "391/391 [==============================] - 29s 75ms/step - loss: 0.0285 - accuracy: 0.9929\n",
      "Epoch 5/10\n",
      "391/391 [==============================] - 29s 75ms/step - loss: 0.0316 - accuracy: 0.9907\n",
      "Epoch 6/10\n",
      "391/391 [==============================] - 29s 74ms/step - loss: 0.0203 - accuracy: 0.9942\n",
      "Epoch 7/10\n",
      "391/391 [==============================] - 29s 75ms/step - loss: 0.0303 - accuracy: 0.9903\n",
      "Epoch 8/10\n",
      "391/391 [==============================] - 29s 75ms/step - loss: 0.0213 - accuracy: 0.9933\n",
      "Epoch 9/10\n",
      "391/391 [==============================] - 29s 74ms/step - loss: 0.0085 - accuracy: 0.9983\n",
      "Epoch 10/10\n",
      "391/391 [==============================] - 29s 75ms/step - loss: 0.0459 - accuracy: 0.9852\n"
     ]
    },
    {
     "data": {
      "text/plain": [
       "<tensorflow.python.keras.callbacks.History at 0x221699211f0>"
      ]
     },
     "execution_count": 44,
     "metadata": {},
     "output_type": "execute_result"
    }
   ],
   "source": [
    "#train the model\n",
    "model.fit_generator(train_data,epochs = 10)\n",
    "#因为是从ImagedataGenerator生成的，所以不是fit"
   ]
  },
  {
   "cell_type": "code",
   "execution_count": 45,
   "id": "9a1e394d-3769-4307-a92f-be85391e3ba2",
   "metadata": {},
   "outputs": [
    {
     "name": "stdout",
     "output_type": "stream",
     "text": [
      "391/391 [==============================] - 45s 114ms/step - loss: 1.1840 - accuracy: 0.7657\n",
      "[1.183998942375183, 0.7656800150871277]\n"
     ]
    }
   ],
   "source": [
    "accuracy_test = model.evaluate(test_data)\n",
    "print(accuracy_test)\n",
    "# 由于文件夹的字母表排列，cat排在dog前面，因此0是cat，1是dog，或者使用命令获知\n"
   ]
  },
  {
   "cell_type": "code",
   "execution_count": 46,
   "id": "3bfd2665-365e-4c48-9095-c5aebbb275e3",
   "metadata": {},
   "outputs": [
    {
     "name": "stdout",
     "output_type": "stream",
     "text": [
      "{'cat': 0, 'dog': 1}\n"
     ]
    }
   ],
   "source": [
    "print(train_data.class_indices)  #注意class_indices是flow_from_directory的属性"
   ]
  },
  {
   "cell_type": "code",
   "execution_count": 50,
   "id": "1c655d44-b384-4b46-b7de-90ea425a3791",
   "metadata": {},
   "outputs": [
    {
     "name": "stdout",
     "output_type": "stream",
     "text": [
      "[[1]]\n",
      "[[0]]\n",
      "[[0]]\n",
      "[[1]]\n",
      "[[1]]\n",
      "[[1]]\n",
      "[[0]]\n",
      "[[1]]\n",
      "[[0]]\n",
      "[[0]]\n"
     ]
    },
    {
     "data": {
      "image/png": "[encoded data removed]",
      "text/plain": [
       "<Figure size 640x480 with 10 Axes>"
      ]
     },
     "metadata": {},
     "output_type": "display_data"
    }
   ],
   "source": [
    "from tensorflow.keras.preprocessing.image import load_img, img_to_array\n",
    "import matplotlib.pyplot as plt\n",
    "import matplotlib.image as mpi\n",
    "\n",
    "def preprocessing(img_path):\n",
    "    pic_target = img_path\n",
    "    pic_target = load_img(pic_target,target_size =(50,50))\n",
    "    pic_target = img_to_array(pic_target)\n",
    "    pic_target = pic_target / 255\n",
    "    pic_target = pic_target.reshape(1,50,50,3)\n",
    "    return pic_target\n",
    "\n",
    "file_path = 'C:/非系统/dogs-vs-cats/test1/test1/'\n",
    "file_dirs = os.listdir(file_path)\n",
    "pic_dirs = []\n",
    "for path in file_dirs:\n",
    "    pic_dirs.append(file_path + path )\n",
    "    \n",
    "counter = 1\n",
    "for i,pic_dir in enumerate(pic_dirs):\n",
    "    if(counter > 10): \n",
    "        break\n",
    "    result = model.predict_classes(preprocessing(pic_dir))\n",
    "    img_ori = load_img(pic_dir, target_size = (500,500))\n",
    "    plt.subplot(10,1,counter)\n",
    "    plt.imshow(img_ori)\n",
    "    plt.title('result is dog' if result == 1 else 'result is cat')\n",
    "    print(result)\n",
    "    counter=counter+1\n",
    "    "
   ]
  },
  {
   "cell_type": "code",
   "execution_count": 89,
   "id": "80438f3b-1459-4e0f-9190-dfd2f8010aef",
   "metadata": {},
   "outputs": [
    {
     "name": "stdout",
     "output_type": "stream",
     "text": [
      "[[1]]\n"
     ]
    }
   ],
   "source": [
    "#加载test1的所有图片\n",
    "from tensorflow.keras.preprocessing.image import load_img, img_to_array\n",
    "pic_dog = 'C:/非系统/dogs-vs-cats/test1/test1/885.jpg'\n",
    "pic_dog = load_img(pic_dog,target_size = (50,50))\n",
    "pic_dog = img_to_array(pic_dog)\n",
    "pic_dog = pic_dog / 255\n",
    "pic_dog = pic_dog.reshape(1,50,50,3)\n",
    "result = model.predict_classes(pic_dog)\n",
    "print(result)"
   ]
  },
  {
   "cell_type": "markdown",
   "id": "d425be37-d6e2-4b69-83a7-a8c1eec0593c",
   "metadata": {},
   "source": [
    "1. 高光错误\n",
    "2. 有很多人的干扰 - 错误\n",
    "3. 遮挡 - 错误\n",
    "4. 穿衣戴帽 - 错误\n",
    "5. 简笔画 - 错误\n"
   ]
  },
  {
   "cell_type": "markdown",
   "id": "841ba951-14e4-4cbe-88cf-5922f57a008f",
   "metadata": {},
   "source": [
    "To be completed\n",
    "1. 将train 分割成train 和 test\n",
    "2. 将test里的图片自动多张导入，生成图片显示和预测结果显示"
   ]
  }
 ],
 "metadata": {
  "kernelspec": {
   "display_name": "Python 3 (ipykernel)",
   "language": "python",
   "name": "python3"
  },
  "language_info": {
   "codemirror_mode": {
    "name": "ipython",
    "version": 3
   },
   "file_extension": ".py",
   "mimetype": "text/x-python",
   "name": "python",
   "nbconvert_exporter": "python",
   "pygments_lexer": "ipython3",
   "version": "3.8.19"
  }
 },
 "nbformat": 4,
 "nbformat_minor": 5
}
